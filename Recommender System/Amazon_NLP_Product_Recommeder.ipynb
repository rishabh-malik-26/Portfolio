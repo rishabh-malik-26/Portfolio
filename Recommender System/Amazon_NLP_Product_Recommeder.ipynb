{
 "cells": [
  {
   "cell_type": "code",
   "execution_count": 1,
   "id": "1bbe4a21-3892-478f-b653-19c28201b036",
   "metadata": {},
   "outputs": [],
   "source": [
    "import pandas as pd \n",
    "import numpy as np\n",
    "import json\n",
    "import os\n",
    "import json\n",
    "import gzip\n",
    "from nltk.tokenize import word_tokenize\n",
    "import gensim\n",
    "from gensim.models import word2vec\n",
    "from sklearn.feature_extraction.text import TfidfVectorizer"
   ]
  },
  {
   "cell_type": "code",
   "execution_count": 2,
   "id": "f2df1cd6-5129-450b-b011-26a9e077f444",
   "metadata": {},
   "outputs": [],
   "source": [
    "data = []\n",
    "\n",
    "with open(r\"C:\\Users\\Rishabh\\Downloads\\Amazon_Project_Data\\Beauty\\meta_All_Beauty.jsonl (1).gz\", \"rt\", encoding=\"utf-8\") as fp:\n",
    "    for line in fp:\n",
    "        data_line = json.loads(line.strip())\n",
    "        data.append(data_line)"
   ]
  },
  {
   "cell_type": "code",
   "execution_count": 3,
   "id": "cdc745f4-e538-4b6b-b7ac-244eb67c6707",
   "metadata": {},
   "outputs": [],
   "source": [
    "df = pd.DataFrame(data)"
   ]
  },
  {
   "cell_type": "code",
   "execution_count": 4,
   "id": "7f42c8f6-b3ee-4a41-bec2-a16bf1412e34",
   "metadata": {},
   "outputs": [],
   "source": [
    "np.random.seed(42)"
   ]
  },
  {
   "cell_type": "code",
   "execution_count": 5,
   "id": "e1f5d13c-1bc7-4c3e-b323-80eba638b93e",
   "metadata": {},
   "outputs": [],
   "source": [
    "df = df.sample(frac = 0.5).reset_index()"
   ]
  },
  {
   "cell_type": "code",
   "execution_count": 6,
   "id": "4163779a-c69a-41cd-8184-55b05ac5d9ad",
   "metadata": {},
   "outputs": [
    {
     "data": {
      "text/plain": [
       "Index(['index', 'main_category', 'title', 'average_rating', 'rating_number',\n",
       "       'features', 'description', 'price', 'images', 'videos', 'store',\n",
       "       'categories', 'details', 'parent_asin', 'bought_together'],\n",
       "      dtype='object')"
      ]
     },
     "execution_count": 6,
     "metadata": {},
     "output_type": "execute_result"
    }
   ],
   "source": [
    "df.columns"
   ]
  },
  {
   "cell_type": "code",
   "execution_count": 7,
   "id": "2b302268-e25d-464d-a4c3-670176955196",
   "metadata": {},
   "outputs": [],
   "source": [
    "df['org_title'] = df['title'].copy()"
   ]
  },
  {
   "cell_type": "code",
   "execution_count": 8,
   "id": "ef5923b8-705e-47b1-a8ff-6cdbc9d1d2d0",
   "metadata": {},
   "outputs": [],
   "source": [
    "## Lower The strings ##\n",
    "df['title'] = df['title'].str.lower() "
   ]
  },
  {
   "cell_type": "code",
   "execution_count": 12,
   "id": "16e19591-c60f-43ff-91be-e0a6dc87593e",
   "metadata": {},
   "outputs": [],
   "source": [
    "def remove_punct(string):\n",
    "    for i in string:\n",
    "        puncts = '''!()-[]{};:'\",<>./?@#$%^&*_~'''\n",
    "        if i in puncts:\n",
    "           string = string.replace(i,'')\n",
    "            \n",
    "    return string"
   ]
  },
  {
   "cell_type": "code",
   "execution_count": 10,
   "id": "41bfb205-5149-4ccf-8491-e250c853c092",
   "metadata": {},
   "outputs": [],
   "source": [
    "df['title'] = df['title'].apply(lambda x: remove_punct(x)) "
   ]
  },
  {
   "cell_type": "code",
   "execution_count": 14,
   "id": "9f79679c-1e05-41ad-8d69-2fc9a68751f4",
   "metadata": {},
   "outputs": [
    {
     "name": "stderr",
     "output_type": "stream",
     "text": [
      "[nltk_data] Downloading package punkt_tab to\n",
      "[nltk_data]     C:\\Users\\Rishabh\\AppData\\Roaming\\nltk_data...\n",
      "[nltk_data]   Unzipping tokenizers\\punkt_tab.zip.\n"
     ]
    }
   ],
   "source": [
    "import nltk\n",
    "nltk.download('punkt_tab')\n",
    "\n",
    "df['title'] = df['title'].apply(lambda x: word_tokenize(x)) "
   ]
  },
  {
   "cell_type": "code",
   "execution_count": 15,
   "id": "a7ef5c3f-ca86-4215-a81d-aef74e844d7c",
   "metadata": {},
   "outputs": [
    {
     "data": {
      "text/plain": [
       "32399    [windmax, heated, mitten, spa, electric, warmi...\n",
       "49460    [efaster, baby, spoon, shower, bath, water, sw...\n",
       "16997    [kitty, kuromi, melody, hair, clips, japanese,...\n",
       "4900     [3m9545hp, dressing, tegaderm, hp, frame, lf, ...\n",
       "45941    [coisini, hair, brazilian, virgin, hair, body,...\n",
       "Name: title, dtype: object"
      ]
     },
     "execution_count": 15,
     "metadata": {},
     "output_type": "execute_result"
    }
   ],
   "source": [
    "df['title'].sample(5)"
   ]
  },
  {
   "cell_type": "code",
   "execution_count": 16,
   "id": "5a5ca78e-b4e0-495b-b17b-72339a6d823c",
   "metadata": {},
   "outputs": [],
   "source": [
    "from nltk.corpus import stopwords\n",
    "stopwords = stopwords.words('english')"
   ]
  },
  {
   "cell_type": "code",
   "execution_count": 17,
   "id": "14dd5b2f-af6b-4c93-9d7c-51099135fd9c",
   "metadata": {},
   "outputs": [],
   "source": [
    "def remove_stopwords(text):\n",
    "    for i in text:\n",
    "        if i in stopwords:\n",
    "            text.remove(i)\n",
    "    return text"
   ]
  },
  {
   "cell_type": "code",
   "execution_count": 18,
   "id": "cd8f1b53-5330-4ecd-9c1d-53f0a63f43bf",
   "metadata": {},
   "outputs": [],
   "source": [
    "df['title'] = df['title'].apply(lambda x: remove_stopwords(x)) "
   ]
  },
  {
   "cell_type": "code",
   "execution_count": 19,
   "id": "3603b529-481a-4d14-a459-97ee9b42833c",
   "metadata": {},
   "outputs": [],
   "source": [
    "model = gensim.models.Word2Vec(df['title'],min_count = 1)"
   ]
  },
  {
   "cell_type": "code",
   "execution_count": 20,
   "id": "91e6a8aa-0c7d-4df5-96f5-ad1f9df578c0",
   "metadata": {},
   "outputs": [],
   "source": [
    "from sklearn.metrics.pairwise import cosine_similarity\n",
    "\n",
    "def similarity(title_1,title_2):\n",
    "\n",
    "    ## Extract the learned word embeddings after training  \n",
    "    title_1_tokens  = [i for i in title_1 if i in model.wv]\n",
    "    title_2_tokens  = [i for i in title_2 if i in model.wv]\n",
    "\n",
    "    ## average the word embeddings vector to convert to fixed-size vectors\n",
    "    if not title_1_tokens or not title_2_tokens:  # Handle cases where no words are found in the model's vocabulary\n",
    "        return 0\n",
    "\n",
    "    \n",
    "    title_1_vec = np.mean(model.wv[title_1_tokens],axis = 0)\n",
    "    title_2_vec = np.mean(model.wv[title_2_tokens],axis = 0)\n",
    "\n",
    "    ## Calculate Similarity between 2 vectors (titles) \n",
    "    similarity = cosine_similarity([title_1_vec],[title_2_vec])[0][0]\n",
    "    return similarity\n",
    "    "
   ]
  },
  {
   "cell_type": "code",
   "execution_count": 21,
   "id": "90439244-b449-43f5-b1b1-ef4aa3b328f5",
   "metadata": {},
   "outputs": [],
   "source": [
    "title_1 = df['org_title'][0]\n",
    "\n",
    "title_2 = df['org_title'][100]"
   ]
  },
  {
   "cell_type": "code",
   "execution_count": 22,
   "id": "63f2dd8d-155a-43fa-87bf-5f08da6d6380",
   "metadata": {
    "scrolled": true
   },
   "outputs": [
    {
     "data": {
      "text/plain": [
       "0.96127796"
      ]
     },
     "execution_count": 22,
     "metadata": {},
     "output_type": "execute_result"
    }
   ],
   "source": [
    "similarity(title_1,title_2)"
   ]
  },
  {
   "cell_type": "code",
   "execution_count": 23,
   "id": "12c2263f-6f62-46c8-889f-15a005077e47",
   "metadata": {},
   "outputs": [],
   "source": [
    "title_1 = df['title'].iloc[0]\n",
    "title_2 = df['title'].iloc[2]\n",
    "\n",
    "title_1_tokens  = [i for i in title_1 if i in model.wv]\n",
    "title_2_tokens  = [i for i in title_2 if i in model.wv]\n",
    "\n",
    "title_1_vec = np.mean(model.wv[title_1_tokens],axis = 0)\n",
    "title_1_vec = np.mean(model.wv[title_2_tokens],axis = 0)\n",
    "\n",
    "for i in range(len(df[0:10000])):\n",
    "    sims  = similarity(title_1,df['title'].iloc[i])\n",
    "\n",
    "\n",
    "def top_similar_titles(title,top_n):    \n",
    "    similar_scores = sorted([(similarity(title,df['title'].iloc[i]),i) for i in range(len(df[100:10000]))])[0:top_n]\n",
    "    similar_indices = [i[1] for i in similar_scores]\n",
    "\n",
    "    \n",
    "    return similar_indices "
   ]
  },
  {
   "cell_type": "code",
   "execution_count": 24,
   "id": "5507c884-73af-48bb-bae2-69c2e25f614d",
   "metadata": {},
   "outputs": [
    {
     "data": {
      "text/plain": [
       "[2028, 9608, 7720, 4441, 9670, 5310, 5878, 9208, 9740, 8170]"
      ]
     },
     "execution_count": 24,
     "metadata": {},
     "output_type": "execute_result"
    }
   ],
   "source": [
    "sim = top_similar_titles(df['title'].iloc[34],10) \n",
    "sim"
   ]
  },
  {
   "cell_type": "code",
   "execution_count": 25,
   "id": "8978bd5b-cc1c-486d-8420-26c1bedf5d74",
   "metadata": {},
   "outputs": [
    {
     "name": "stdout",
     "output_type": "stream",
     "text": [
      "https://m.media-amazon.com/images/I/41gNBBWzGRL.jpg\n",
      "https://m.media-amazon.com/images/I/316fEVYeJ0L.jpg\n",
      "https://m.media-amazon.com/images/I/41XRJhOUpQL.jpg\n",
      "https://m.media-amazon.com/images/I/51HJh7jzwRL.jpg\n",
      "https://m.media-amazon.com/images/I/41j2rvRciDS.jpg\n",
      "https://m.media-amazon.com/images/I/01RmK+J4pJL.gif\n",
      "https://m.media-amazon.com/images/I/31tKCdQmHSL.jpg\n",
      "https://m.media-amazon.com/images/I/51sxaLUtjJL.jpg\n",
      "https://m.media-amazon.com/images/I/51v5lIagRBL.jpg\n",
      "https://m.media-amazon.com/images/I/51x1QcU9crL.jpg\n"
     ]
    }
   ],
   "source": [
    "for a in sim:\n",
    "    print(df['images'].iloc[a][0]['large'])"
   ]
  },
  {
   "cell_type": "code",
   "execution_count": 26,
   "id": "a1a1dced-9608-45e2-a4af-b5193ac31aa4",
   "metadata": {},
   "outputs": [
    {
     "name": "stdout",
     "output_type": "stream",
     "text": [
      "Stylemate\n",
      "\n",
      "TimeTinkle\n",
      "SLKIJDHFB\n",
      "Vovotrade\n",
      "ASTARON\n",
      "PINX\n",
      "LanLan butterfly flower ring earring\n",
      "UNA Dreadlocks Beads Hair Braid Rings Clips Dread Locks Hair Braiding Metal Cuffs Decoration/Accessories Jewelry (50piece/pack,Golden)\n",
      "Aprince Bobby Pins Bobby Pins Buns U Shaped Pins for Women Gold Hair Pins Bobby Pins Open Flower Bobby Pins 200 Pieces Gold\n"
     ]
    }
   ],
   "source": [
    "for a in sim:\n",
    "    print(df['org_title'].iloc[a])"
   ]
  },
  {
   "cell_type": "code",
   "execution_count": 27,
   "id": "e9a923d7-8cb9-4d99-bdcc-752c52423884",
   "metadata": {},
   "outputs": [],
   "source": [
    "## Using Fiass for Large Datasets\n",
    "\n",
    "# import faiss\n",
    "\n",
    "\n",
    "# title_1_tokens  = [i for i in title_1 if i in model.wv]\n",
    "# title_2_tokens  = [i for i in title_2 if i in model.wv]\n",
    "\n",
    "# title_1_vec = np.mean(model.wv[title_1_tokens],axis = 0)\n",
    "# title_2_vec = np.mean(model.wv[title_2_tokens],axis = 0)\n",
    "\n",
    "# faiss.normalize_L2(title_1_vec) \n",
    "# faiss.normalize_L2(title_2_vec)\n",
    "\n",
    "# index = faiss.IndexFlatIP(title_1_vec.shape[1])\n",
    "# index.add(title_2_vec)  # Add title_2_vec to FAISS index\n",
    "\n",
    "# D, I = index.search(title_1_vec, k=2) \n",
    "\n",
    "# print(f\"Cosine Similarity: {D[0][0]}\")  # Similarity score\n",
    "# print(f\"Closest vector index: {I[0][0]}\")  # Index of closest match"
   ]
  },
  {
   "cell_type": "code",
   "execution_count": null,
   "id": "45ae31d7-0f01-4f62-9b2a-8d6493a1d04e",
   "metadata": {},
   "outputs": [],
   "source": [
    "# import faiss\n",
    "# import numpy as np\n",
    "\n",
    "# # Example vectors (title_1_vec and title_2_vec)\n",
    "# title_1_vec = np.array([[0.1, 0.2, 0.3]], dtype=np.float32)  # Shape (1, D)\n",
    "# title_2_vec = np.array([[0.2, 0.1, 0.4]], dtype=np.float32)  # Shape (1, D)\n",
    "\n",
    "# # Normalize vectors using FAISS\n",
    "# faiss.normalize_L2(title_1_vec)  # In-place normalization\n",
    "# faiss.normalize_L2(title_2_vec)\n",
    "\n",
    "# # Create FAISS index (Inner Product = Cosine Similarity)\n",
    "# index = faiss.IndexFlatIP(title_1_vec.shape[1])\n",
    "# index.add(title_2_vec)  # Add title_2_vec to FAISS index\n",
    "\n",
    "# # Query similarity\n",
    "# D, I = index.search(title_1_vec, k=1)  # Find most similar vector\n",
    "\n",
    "# print(f\"Cosine Similarity: {D[0][0]}\")  # Similarity score\n",
    "# print(f\"Closest vector index: {I[0][0]}\")  # Index of closest match\n"
   ]
  }
 ],
 "metadata": {
  "kernelspec": {
   "display_name": "Python 3 (ipykernel)",
   "language": "python",
   "name": "python3"
  },
  "language_info": {
   "codemirror_mode": {
    "name": "ipython",
    "version": 3
   },
   "file_extension": ".py",
   "mimetype": "text/x-python",
   "name": "python",
   "nbconvert_exporter": "python",
   "pygments_lexer": "ipython3",
   "version": "3.12.7"
  }
 },
 "nbformat": 4,
 "nbformat_minor": 5
}
